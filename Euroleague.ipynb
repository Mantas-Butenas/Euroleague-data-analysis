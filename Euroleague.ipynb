{
 "cells": [
  {
   "cell_type": "markdown",
   "id": "c1b00c7d-370d-48d6-b81a-0bf0c2c6b7f5",
   "metadata": {},
   "source": [
    "## **data exploration**"
   ]
  },
  {
   "cell_type": "code",
   "execution_count": 7,
   "id": "279054cf-3d7d-4778-a7ed-8982a827351f",
   "metadata": {},
   "outputs": [
    {
     "name": "stderr",
     "output_type": "stream",
     "text": [
      "C:\\Users\\Mantas\\AppData\\Local\\Temp\\ipykernel_13256\\3007680743.py:6: DtypeWarning: Columns (10) have mixed types. Specify dtype option on import or set low_memory=False.\n",
      "  dfs = {file: pd.read_csv(os.path.join(\"archive\", file)) for file in files}\n"
     ]
    }
   ],
   "source": [
    "import os\n",
    "import pandas as pd\n",
    "\n",
    "# Load the dataset files\n",
    "files = os.listdir(\"archive\")\n",
    "dfs = {file: pd.read_csv(os.path.join(\"archive\", file)) for file in files}"
   ]
  },
  {
   "cell_type": "code",
   "execution_count": 8,
   "id": "6b96f2f5-7a94-47fb-ba8c-ce9dba994341",
   "metadata": {},
   "outputs": [
    {
     "name": "stdout",
     "output_type": "stream",
     "text": [
      "\n",
      "File: eurocup_box_score.csv\n",
      "Columns: ['game_player_id', 'game_id', 'game', 'round', 'phase', 'season_code', 'player_id', 'is_starter', 'is_playing', 'team_id', 'dorsal', 'player', 'minutes', 'points', 'two_points_made', 'two_points_attempted', 'three_points_made', 'three_points_attempted', 'free_throws_made', 'free_throws_attempted', 'offensive_rebounds', 'defensive_rebounds', 'total_rebounds', 'assists', 'steals', 'turnovers', 'blocks_favour', 'blocks_against', 'fouls_committed', 'fouls_received', 'valuation', 'plus_minus']\n",
      "\n",
      "File: eurocup_comparison.csv\n",
      "Columns: ['game_id', 'game', 'round', 'phase', 'season_code', 'team_id_a', 'team_id_b', 'fast_break_points_a', 'fast_break_points_b', 'turnover_points_a', 'turnover_points_b', 'second_chance_points_a', 'second_chance_points_b', 'defensive_rebounds_a', 'offensive_rebounds_b', 'offensive_rebounds_a', 'defensive_rebounds_b', 'turnovers_starters_a', 'turnovers_bench_a', 'turnovers_starters_b', 'turnovers_bench_b', 'steals_starters_a', 'steals_bench_a', 'steals_starters_b', 'steals_bench_b', 'assists_starters_a', 'assists_bench_a', 'assists_starters_b', 'assists_bench_b', 'points_starters_a', 'points_bench_a', 'points_starters_b', 'points_bench_b', 'max_a', 'minute_prev_a', 'prev_a', 'minute_str_a', 'str_a', 'max_b', 'minute_prev_b', 'prev_b', 'minute_str_b', 'str_b', 'max_lead_a', 'max_lead_b', 'minute_max_lead_a', 'minute_max_lead_b', 'points_max_lead_a', 'points_max_lead_b']\n",
      "\n",
      "File: eurocup_header.csv\n",
      "Columns: ['game_id', 'game', 'date', 'time', 'round', 'phase', 'season_code', 'score_a', 'score_b', 'team_a', 'team_b', 'team_id_a', 'team_id_b', 'coach_a', 'coach_b', 'game_time', 'remaining_partial_time', 'referee_1', 'referee_2', 'referee_3', 'stadium', 'capacity', 'w_id', 'fouls_a', 'fouls_b', 'timeouts_a', 'timeouts_b', 'score_quarter_1_a', 'score_quarter_2_a', 'score_quarter_3_a', 'score_quarter_4_a', 'score_quarter_1_b', 'score_quarter_2_b', 'score_quarter_3_b', 'score_quarter_4_b', 'score_extra_time_1_a', 'score_extra_time_2_a', 'score_extra_time_3_a', 'score_extra_time_4_a', 'score_extra_time_1_b', 'score_extra_time_2_b', 'score_extra_time_3_b', 'score_extra_time_4_b']\n",
      "\n",
      "File: eurocup_players.csv\n",
      "Columns: ['season_player_id', 'season_code', 'player_id', 'player', 'team_id', 'games_played', 'games_started', 'minutes', 'points', 'two_points_made', 'two_points_attempted', 'three_points_made', 'three_points_attempted', 'free_throws_made', 'free_throws_attempted', 'offensive_rebounds', 'defensive_rebounds', 'total_rebounds', 'assists', 'steals', 'turnovers', 'blocks_favour', 'blocks_against', 'fouls_committed', 'fouls_received', 'valuation', 'plus_minus', 'minutes_per_game', 'points_per_game', 'two_points_made_per_game', 'two_points_attempted_per_game', 'two_points_percentage', 'three_points_made_per_game', 'three_points_attempted_per_game', 'three_points_percentage', 'free_throws_made_per_game', 'free_throws_attempted_per_game', 'free_throws_percentage', 'offensive_rebounds_per_game', 'defensive_rebounds_per_game', 'total_rebounds_per_game', 'assists_per_game', 'steals_per_game', 'turnovers_per_game', 'blocks_favour_per_game', 'blocks_against_per_game', 'fouls_committed_per_game', 'fouls_received_per_game', 'valuation_per_game', 'plus_minus_per_game']\n",
      "\n",
      "File: eurocup_play_by_play.csv\n",
      "Columns: ['game_play_id', 'game_id', 'game', 'round', 'phase', 'season_code', 'quarter', 'type', 'number_of_play', 'team_id', 'player_id', 'play_type', 'player', 'team', 'dorsal', 'minute', 'marker_time', 'points_a', 'points_b', 'comment', 'play_info']\n",
      "\n",
      "File: eurocup_points.csv\n",
      "Columns: ['game_point_id', 'game_id', 'game', 'round', 'phase', 'season_code', 'number_of_play', 'team_id', 'player_id', 'player', 'action_id', 'action', 'points', 'coord_x', 'coord_y', 'zone', 'fastbreak', 'second_chance', 'points_off_turnover', 'minute', 'console', 'points_a', 'points_b', 'timestamp']\n",
      "\n",
      "File: eurocup_teams.csv\n",
      "Columns: ['season_team_id', 'season_code', 'team_id', 'games_played', 'minutes', 'points', 'two_points_made', 'two_points_attempted', 'three_points_made', 'three_points_attempted', 'free_throws_made', 'free_throws_attempted', 'offensive_rebounds', 'defensive_rebounds', 'total_rebounds', 'assists', 'steals', 'turnovers', 'blocks_favour', 'blocks_against', 'fouls_committed', 'fouls_received', 'valuation', 'minutes_per_game', 'points_per_game', 'two_points_made_per_game', 'two_points_attempted_per_game', 'two_points_percentage', 'three_points_made_per_game', 'three_points_attempted_per_game', 'three_points_percentage', 'free_throws_made_per_game', 'free_throws_attempted_per_game', 'free_throws_percentage', 'offensive_rebounds_per_game', 'defensive_rebounds_per_game', 'total_rebounds_per_game', 'assists_per_game', 'steals_per_game', 'turnovers_per_game', 'blocks_favour_per_game', 'blocks_against_per_game', 'fouls_committed_per_game', 'fouls_received_per_game', 'valuation_per_game']\n",
      "\n",
      "File: euroleague_box_score.csv\n",
      "Columns: ['game_player_id', 'game_id', 'game', 'round', 'phase', 'season_code', 'player_id', 'is_starter', 'is_playing', 'team_id', 'dorsal', 'player', 'minutes', 'points', 'two_points_made', 'two_points_attempted', 'three_points_made', 'three_points_attempted', 'free_throws_made', 'free_throws_attempted', 'offensive_rebounds', 'defensive_rebounds', 'total_rebounds', 'assists', 'steals', 'turnovers', 'blocks_favour', 'blocks_against', 'fouls_committed', 'fouls_received', 'valuation', 'plus_minus']\n",
      "\n",
      "File: euroleague_comparison.csv\n",
      "Columns: ['game_id', 'game', 'round', 'phase', 'season_code', 'team_id_a', 'team_id_b', 'fast_break_points_a', 'fast_break_points_b', 'turnover_points_a', 'turnover_points_b', 'second_chance_points_a', 'second_chance_points_b', 'defensive_rebounds_a', 'offensive_rebounds_b', 'offensive_rebounds_a', 'defensive_rebounds_b', 'turnovers_starters_a', 'turnovers_bench_a', 'turnovers_starters_b', 'turnovers_bench_b', 'steals_starters_a', 'steals_bench_a', 'steals_starters_b', 'steals_bench_b', 'assists_starters_a', 'assists_bench_a', 'assists_starters_b', 'assists_bench_b', 'points_starters_a', 'points_bench_a', 'points_starters_b', 'points_bench_b', 'max_a', 'minute_prev_a', 'prev_a', 'minute_str_a', 'str_a', 'max_b', 'minute_prev_b', 'prev_b', 'minute_str_b', 'str_b', 'max_lead_a', 'max_lead_b', 'minute_max_lead_a', 'minute_max_lead_b', 'points_max_lead_a', 'points_max_lead_b']\n",
      "\n",
      "File: euroleague_header.csv\n",
      "Columns: ['game_id', 'game', 'date', 'time', 'round', 'phase', 'season_code', 'score_a', 'score_b', 'team_a', 'team_b', 'team_id_a', 'team_id_b', 'coach_a', 'coach_b', 'game_time', 'remaining_partial_time', 'referee_1', 'referee_2', 'referee_3', 'stadium', 'capacity', 'w_id', 'fouls_a', 'fouls_b', 'timeouts_a', 'timeouts_b', 'score_quarter_1_a', 'score_quarter_2_a', 'score_quarter_3_a', 'score_quarter_4_a', 'score_quarter_1_b', 'score_quarter_2_b', 'score_quarter_3_b', 'score_quarter_4_b', 'score_extra_time_1_a', 'score_extra_time_2_a', 'score_extra_time_3_a', 'score_extra_time_4_a', 'score_extra_time_1_b', 'score_extra_time_2_b', 'score_extra_time_3_b', 'score_extra_time_4_b']\n",
      "\n",
      "File: euroleague_players.csv\n",
      "Columns: ['season_player_id', 'season_code', 'player_id', 'player', 'team_id', 'games_played', 'games_started', 'minutes', 'points', 'two_points_made', 'two_points_attempted', 'three_points_made', 'three_points_attempted', 'free_throws_made', 'free_throws_attempted', 'offensive_rebounds', 'defensive_rebounds', 'total_rebounds', 'assists', 'steals', 'turnovers', 'blocks_favour', 'blocks_against', 'fouls_committed', 'fouls_received', 'valuation', 'plus_minus', 'minutes_per_game', 'points_per_game', 'two_points_made_per_game', 'two_points_attempted_per_game', 'two_points_percentage', 'three_points_made_per_game', 'three_points_attempted_per_game', 'three_points_percentage', 'free_throws_made_per_game', 'free_throws_attempted_per_game', 'free_throws_percentage', 'offensive_rebounds_per_game', 'defensive_rebounds_per_game', 'total_rebounds_per_game', 'assists_per_game', 'steals_per_game', 'turnovers_per_game', 'blocks_favour_per_game', 'blocks_against_per_game', 'fouls_committed_per_game', 'fouls_received_per_game', 'valuation_per_game', 'plus_minus_per_game']\n",
      "\n",
      "File: euroleague_play_by_play.csv\n",
      "Columns: ['game_play_id', 'game_id', 'game', 'round', 'phase', 'season_code', 'quarter', 'type', 'number_of_play', 'team_id', 'player_id', 'play_type', 'player', 'team', 'dorsal', 'minute', 'marker_time', 'points_a', 'points_b', 'comment', 'play_info']\n",
      "\n",
      "File: euroleague_points.csv\n",
      "Columns: ['game_point_id', 'game_id', 'game', 'round', 'phase', 'season_code', 'number_of_play', 'team_id', 'player_id', 'player', 'action_id', 'action', 'points', 'coord_x', 'coord_y', 'zone', 'fastbreak', 'second_chance', 'points_off_turnover', 'minute', 'console', 'points_a', 'points_b', 'timestamp']\n",
      "\n",
      "File: euroleague_teams.csv\n",
      "Columns: ['season_team_id', 'season_code', 'team_id', 'games_played', 'minutes', 'points', 'two_points_made', 'two_points_attempted', 'three_points_made', 'three_points_attempted', 'free_throws_made', 'free_throws_attempted', 'offensive_rebounds', 'defensive_rebounds', 'total_rebounds', 'assists', 'steals', 'turnovers', 'blocks_favour', 'blocks_against', 'fouls_committed', 'fouls_received', 'valuation', 'minutes_per_game', 'points_per_game', 'two_points_made_per_game', 'two_points_attempted_per_game', 'two_points_percentage', 'three_points_made_per_game', 'three_points_attempted_per_game', 'three_points_percentage', 'free_throws_made_per_game', 'free_throws_attempted_per_game', 'free_throws_percentage', 'offensive_rebounds_per_game', 'defensive_rebounds_per_game', 'total_rebounds_per_game', 'assists_per_game', 'steals_per_game', 'turnovers_per_game', 'blocks_favour_per_game', 'blocks_against_per_game', 'fouls_committed_per_game', 'fouls_received_per_game', 'valuation_per_game']\n",
      "\n",
      "File: last_update.txt\n",
      "Columns: ['2025-02-23']\n"
     ]
    }
   ],
   "source": [
    "# Inspect columns for all tables\n",
    "for name, df in dfs.items():\n",
    "    print(f\"\\nFile: {name}\")\n",
    "    print(\"Columns:\", df.columns.tolist())"
   ]
  },
  {
   "cell_type": "code",
   "execution_count": null,
   "id": "b3652117-6158-44b6-933d-4140cbbbecda",
   "metadata": {},
   "outputs": [],
   "source": []
  }
 ],
 "metadata": {
  "kernelspec": {
   "display_name": "Python 3 (ipykernel)",
   "language": "python",
   "name": "python3"
  },
  "language_info": {
   "codemirror_mode": {
    "name": "ipython",
    "version": 3
   },
   "file_extension": ".py",
   "mimetype": "text/x-python",
   "name": "python",
   "nbconvert_exporter": "python",
   "pygments_lexer": "ipython3",
   "version": "3.11.9"
  }
 },
 "nbformat": 4,
 "nbformat_minor": 5
}
